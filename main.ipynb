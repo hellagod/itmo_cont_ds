{
 "cells": [
  {
   "cell_type": "code",
   "execution_count": 1,
   "id": "9a5d522a353fbd0c",
   "metadata": {
    "ExecuteTime": {
     "end_time": "2025-08-07T11:36:22.982602900Z",
     "start_time": "2025-08-07T11:36:21.943892100Z"
    },
    "collapsed": false
   },
   "outputs": [],
   "source": [
    "import pandas as pd"
   ]
  },
  {
   "cell_type": "code",
   "execution_count": 2,
   "id": "a57fb3f603e74705",
   "metadata": {
    "ExecuteTime": {
     "end_time": "2025-08-07T11:36:37.344248500Z",
     "start_time": "2025-08-07T11:36:23.572194200Z"
    },
    "collapsed": false
   },
   "outputs": [],
   "source": [
    "df_tx = pd.read_parquet(\"transaction_fraud_data.parquet\")\n",
    "df_fx = pd.read_parquet(\"historical_currency_exchange.parquet\")"
   ]
  },
  {
   "cell_type": "code",
   "execution_count": 21,
   "id": "initial_id",
   "metadata": {
    "ExecuteTime": {
     "start_time": "2025-08-07T11:36:37.351562900Z"
    },
    "collapsed": true,
    "is_executing": true
   },
   "outputs": [
    {
     "name": "stdout",
     "output_type": "stream",
     "text": [
      "<class 'pandas.core.frame.DataFrame'>\n",
      "RangeIndex: 7483766 entries, 0 to 7483765\n",
      "Data columns (total 31 columns):\n",
      " #   Column                   Dtype         \n",
      "---  ------                   -----         \n",
      " 0   transaction_id           object        \n",
      " 1   customer_id              object        \n",
      " 2   card_number              int64         \n",
      " 3   timestamp                datetime64[us]\n",
      " 4   vendor_category          object        \n",
      " 5   vendor_type              object        \n",
      " 6   vendor                   object        \n",
      " 7   amount                   float64       \n",
      " 8   currency                 object        \n",
      " 9   country                  object        \n",
      " 10  city                     object        \n",
      " 11  city_size                object        \n",
      " 12  card_type                object        \n",
      " 13  is_card_present          bool          \n",
      " 14  device                   object        \n",
      " 15  channel                  object        \n",
      " 16  device_fingerprint       object        \n",
      " 17  ip_address               object        \n",
      " 18  is_outside_home_country  bool          \n",
      " 19  is_high_risk_vendor      bool          \n",
      " 20  is_weekend               bool          \n",
      " 21  last_hour_activity       object        \n",
      " 22  is_fraud                 bool          \n",
      " 23  amount_usd               float64       \n",
      " 24  amount_decile            int64         \n",
      " 25  hour                     int32         \n",
      " 26  lha_num_transactions     int64         \n",
      " 27  lha_total_amount         float64       \n",
      " 28  lha_unique_merchants     int64         \n",
      " 29  lha_unique_countries     int64         \n",
      " 30  lha_max_single_amount    float64       \n",
      "dtypes: bool(5), datetime64[us](1), float64(4), int32(1), int64(5), object(15)\n",
      "memory usage: 8.5 GB\n",
      "None\n",
      "<class 'pandas.core.frame.DataFrame'>\n",
      "RangeIndex: 31 entries, 0 to 30\n",
      "Data columns (total 12 columns):\n",
      " #   Column  Non-Null Count  Dtype  \n",
      "---  ------  --------------  -----  \n",
      " 0   date    31 non-null     object \n",
      " 1   AUD     31 non-null     float64\n",
      " 2   BRL     31 non-null     float64\n",
      " 3   CAD     31 non-null     float64\n",
      " 4   EUR     31 non-null     float64\n",
      " 5   GBP     31 non-null     float64\n",
      " 6   JPY     31 non-null     float64\n",
      " 7   MXN     31 non-null     float64\n",
      " 8   NGN     31 non-null     float64\n",
      " 9   RUB     31 non-null     float64\n",
      " 10  SGD     31 non-null     float64\n",
      " 11  USD     31 non-null     int64  \n",
      "dtypes: float64(10), int64(1), object(1)\n",
      "memory usage: 4.0 KB\n",
      "None\n"
     ]
    }
   ],
   "source": [
    "print(df_tx.info(memory_usage=\"deep\"))\n",
    "print(df_fx.info(memory_usage=\"deep\"))"
   ]
  },
  {
   "cell_type": "code",
   "execution_count": 22,
   "id": "188f2aad",
   "metadata": {},
   "outputs": [
    {
     "name": "stdout",
     "output_type": "stream",
     "text": [
      "\n",
      "Date range: 2024-09-30 00:00:01.034820 2024-10-30 23:59:59.101885\n",
      "Rows: 7483766  | Unique customers: 4869\n"
     ]
    }
   ],
   "source": [
    "print(\"\\nDate range:\", df_tx[\"timestamp\"].min(), df_tx[\"timestamp\"].max())\n",
    "print(\"Rows:\", len(df_tx), \" | Unique customers:\", df_tx[\"customer_id\"].nunique())"
   ]
  },
  {
   "cell_type": "code",
   "execution_count": 5,
   "id": "759fdf5a",
   "metadata": {},
   "outputs": [
    {
     "name": "stdout",
     "output_type": "stream",
     "text": [
      "\n",
      "Fraud counts:\n",
      " is_fraud\n",
      "False    5989047\n",
      "True     1494719\n",
      "Name: count, dtype: int64\n",
      "Overall fraud rate: 19.97%\n"
     ]
    }
   ],
   "source": [
    "fraud_counts = df_tx[\"is_fraud\"].value_counts(dropna=False)\n",
    "fraud_rate = df_tx[\"is_fraud\"].mean()\n",
    "print(\"\\nFraud counts:\\n\", fraud_counts)\n",
    "print(\"Overall fraud rate: {:.2%}\".format(fraud_rate))"
   ]
  },
  {
   "cell_type": "code",
   "execution_count": 6,
   "id": "ab03c101",
   "metadata": {},
   "outputs": [
    {
     "name": "stdout",
     "output_type": "stream",
     "text": [
      "                 transactions  frauds  fraud_rate\n",
      "vendor_category                                  \n",
      "Travel                 935790  187477    0.200341\n",
      "Grocery                934029  186987    0.200194\n",
      "Restaurant             936178  186951    0.199696\n",
      "Entertainment          936173  186890    0.199632\n",
      "Gas                    935401  186829    0.199731\n",
      "Healthcare             936770  186769    0.199376\n",
      "Retail                 935883  186613    0.199398\n",
      "Education              933542  186203    0.199459\n"
     ]
    }
   ],
   "source": [
    "top_cat = (\n",
    "    df_tx.groupby(\"vendor_category\")[\"is_fraud\"]\n",
    "         .agg([\"count\", \"sum\", \"mean\"])\n",
    "         .rename(columns={\"count\": \"transactions\", \"sum\": \"frauds\", \"mean\": \"fraud_rate\"})\n",
    "         .sort_values(\"frauds\", ascending=False)\n",
    "         .head(10)\n",
    ")\n",
    "print(top_cat)"
   ]
  },
  {
   "cell_type": "code",
   "execution_count": 7,
   "id": "2f40211b5797a4fd",
   "metadata": {
    "ExecuteTime": {
     "start_time": "2025-08-07T11:34:46.704840300Z"
    },
    "collapsed": false
   },
   "outputs": [
    {
     "name": "stdout",
     "output_type": "stream",
     "text": [
      "           transactions  frauds  fraud_rate\n",
      "country                                    \n",
      "Mexico           785704  298841    0.380348\n",
      "Russia           793730  299425    0.377238\n",
      "Brazil           804800  298629    0.371060\n",
      "Nigeria          849840  298600    0.351360\n",
      "Australia        496695   37652    0.075805\n",
      "USA              500060   37312    0.074615\n",
      "Japan            527393   37592    0.071279\n",
      "Germany          524464   37205    0.070939\n",
      "Canada           532632   37278    0.069988\n",
      "UK               538493   37345    0.069351\n"
     ]
    }
   ],
   "source": [
    "top_country = (\n",
    "    df_tx.groupby(\"country\")[\"is_fraud\"]\n",
    "         .agg([\"count\", \"sum\", \"mean\"])\n",
    "         .rename(columns={\"count\": \"transactions\", \"sum\": \"frauds\", \"mean\": \"fraud_rate\"})\n",
    "         .query(\"transactions >= 100\")         \n",
    "         .sort_values(\"fraud_rate\", ascending=False)\n",
    "         .head(10)\n",
    ")\n",
    "print(top_country)"
   ]
  },
  {
   "cell_type": "code",
   "execution_count": 8,
   "id": "32b98216daa3ff52",
   "metadata": {
    "ExecuteTime": {
     "start_time": "2025-08-07T11:34:46.704840300Z"
    },
    "collapsed": false
   },
   "outputs": [],
   "source": [
    "\n",
    "latest_fx = df_fx.sort_values(\"date\").iloc[-1].to_dict()  \n",
    "latest_fx[\"USD\"] = 1.0  \n",
    "\n",
    "def to_usd(row):\n",
    "    rate = latest_fx.get(row[\"currency\"], None)\n",
    "    return row[\"amount\"] / rate if rate else None\n",
    "\n",
    "df_tx[\"amount_usd\"] = df_tx.apply(to_usd, axis=1)\n"
   ]
  },
  {
   "cell_type": "code",
   "execution_count": null,
   "id": "dfa8e8c247cf052",
   "metadata": {
    "collapsed": false
   },
   "outputs": [
    {
     "name": "stdout",
     "output_type": "stream",
     "text": [
      "                      flag  value  transactions   frauds  fraud_rate\n",
      "0          is_card_present  False       6832719   843672    0.123475\n",
      "1          is_card_present   True        651047   651047    1.000000\n",
      "2      is_high_risk_vendor  False       5611803  1120352    0.199642\n",
      "3      is_high_risk_vendor   True       1871963   374367    0.199986\n",
      "4  is_outside_home_country  False       5073605   126343    0.024902\n",
      "5  is_outside_home_country   True       2410161  1368376    0.567753\n",
      "6               is_weekend  False       5554103  1109277    0.199722\n",
      "7               is_weekend   True       1929663   385442    0.199746\n",
      "    is_high_risk_vendor  is_outside_home_country  is_weekend  is_card_present  \\\n",
      "1                 False                    False       False             True   \n",
      "3                 False                    False        True             True   \n",
      "5                 False                     True       False             True   \n",
      "7                 False                     True        True             True   \n",
      "9                  True                    False       False             True   \n",
      "11                 True                    False        True             True   \n",
      "13                 True                     True       False             True   \n",
      "15                 True                     True        True             True   \n",
      "14                 True                     True        True            False   \n",
      "4                 False                     True       False            False   \n",
      "\n",
      "    transactions  frauds  fraud_rate  \n",
      "1          30698   30698    1.000000  \n",
      "3          10691   10691    1.000000  \n",
      "5         331578  331578    1.000000  \n",
      "7         114923  114923    1.000000  \n",
      "9          10273   10273    1.000000  \n",
      "11          3574    3574    1.000000  \n",
      "13        110775  110775    1.000000  \n",
      "15         38535   38535    1.000000  \n",
      "14        117421   50009    0.425895  \n",
      "4        1009061  429745    0.425886  \n"
     ]
    }
   ],
   "source": [
    "flags = [\n",
    "    \"is_high_risk_vendor\",\n",
    "    \"is_outside_home_country\",\n",
    "    \"is_weekend\",\n",
    "    \"is_card_present\",  \n",
    "]\n",
    "\n",
    "flag_summary = (\n",
    "    df_tx[flags + [\"is_fraud\"]]\n",
    "      .melt(id_vars=\"is_fraud\", var_name=\"flag\", value_name=\"value\")\n",
    "      .groupby([\"flag\", \"value\"])[\"is_fraud\"]\n",
    "      .agg([\"count\", \"sum\", \"mean\"])\n",
    "      .rename(columns={\"count\": \"transactions\", \"sum\": \"frauds\", \"mean\": \"fraud_rate\"})\n",
    "      .reset_index()\n",
    ")\n",
    "print(flag_summary)\n",
    "\n",
    "combo_summary = (\n",
    "    df_tx\n",
    "      .groupby(flags)[\"is_fraud\"]\n",
    "      .agg([\"count\", \"sum\", \"mean\"])\n",
    "      .rename(columns={\"count\": \"transactions\", \"sum\": \"frauds\", \"mean\": \"fraud_rate\"})\n",
    "      .reset_index()\n",
    "      .sort_values(\"fraud_rate\", ascending=False)\n",
    ")\n",
    "print(combo_summary.head(10))\n"
   ]
  },
  {
   "cell_type": "code",
   "execution_count": null,
   "id": "aef220ba",
   "metadata": {},
   "outputs": [
    {
     "name": "stdout",
     "output_type": "stream",
     "text": [
      "               transactions  frauds  fraud_rate\n",
      "amount_decile                                  \n",
      "0                    748377  486537    0.650123\n",
      "1                    748377   57880    0.077341\n",
      "2                    748376   60488    0.080826\n",
      "3                    748380   47436    0.063385\n",
      "4                    748379   43159    0.057670\n",
      "5                    748387   43262    0.057807\n",
      "6                    748366   54289    0.072543\n",
      "7                    748373  127009    0.169713\n",
      "8                    748374  195149    0.260764\n",
      "9                    748377  379510    0.507111\n"
     ]
    }
   ],
   "source": [
    "\n",
    "df_tx[\"amount_decile\"] = pd.qcut(df_tx[\"amount_usd\"], 10, labels=False, duplicates=\"drop\")\n",
    "\n",
    "decile_summary = (\n",
    "    df_tx.groupby(\"amount_decile\")[\"is_fraud\"]\n",
    "         .agg([\"count\", \"sum\", \"mean\"])\n",
    "         .rename(columns={\"count\": \"transactions\", \"sum\": \"frauds\", \"mean\": \"fraud_rate\"})\n",
    ")\n",
    "print(decile_summary)\n"
   ]
  },
  {
   "cell_type": "code",
   "execution_count": 12,
   "id": "94e22540",
   "metadata": {},
   "outputs": [
    {
     "name": "stdout",
     "output_type": "stream",
     "text": [
      "      transactions  frauds  fraud_rate\n",
      "hour                                  \n",
      "0           155759   41519    0.266559\n",
      "1           280136  165999    0.592566\n",
      "2           280472  166025    0.591949\n",
      "3           280031  165621    0.591438\n",
      "4           281466  166418    0.591254\n",
      "5           208529   41829    0.200591\n",
      "6           196875   41622    0.211413\n",
      "7           301176   41318    0.137189\n",
      "8           405312   41523    0.102447\n",
      "9           352451   41522    0.117809\n",
      "10          300516   41410    0.137796\n",
      "11          352499   41857    0.118744\n",
      "12          404942   41716    0.103017\n",
      "13          352556   41829    0.118645\n",
      "14          300152   41665    0.138813\n",
      "15          300554   41705    0.138760\n",
      "16          352379   41407    0.117507\n",
      "17          404657   41423    0.102366\n",
      "18          456393   41400    0.090711\n",
      "19          404823   41786    0.103220\n",
      "20          300832   41188    0.136914\n",
      "21          196566   41049    0.208831\n",
      "22          332961   41431    0.124432\n",
      "23          281729   41457    0.147152\n"
     ]
    }
   ],
   "source": [
    "df_tx[\"hour\"] = df_tx[\"timestamp\"].dt.hour\n",
    "hourly = (\n",
    "    df_tx.groupby(\"hour\")[\"is_fraud\"]\n",
    "         .agg([\"count\", \"sum\", \"mean\"])\n",
    "         .rename(columns={\"count\": \"transactions\", \"sum\": \"frauds\", \"mean\": \"fraud_rate\"})\n",
    ")\n",
    "print(hourly.head(24))\n"
   ]
  },
  {
   "cell_type": "code",
   "execution_count": null,
   "id": "27dc5823",
   "metadata": {},
   "outputs": [
    {
     "name": "stdout",
     "output_type": "stream",
     "text": [
      "is_fraud                 1.000000\n",
      "lha_max_single_amount    0.009226\n",
      "lha_unique_countries     0.009046\n",
      "lha_unique_merchants     0.006932\n",
      "lha_num_transactions     0.004506\n",
      "lha_total_amount         0.003332\n",
      "Name: is_fraud, dtype: float64\n"
     ]
    }
   ],
   "source": [
    "activity_cols = [\"num_transactions\", \"total_amount\", \"unique_merchants\", \"unique_countries\", \"max_single_amount\"]\n",
    "act_df = pd.json_normalize(df_tx[\"last_hour_activity\"])\n",
    "act_df.columns = [f\"lha_{c}\" for c in activity_cols]\n",
    "df_tx = df_tx.join(act_df)\n",
    "\n",
    "corr = df_tx[[\"is_fraud\"] + act_df.columns.tolist()].corr(numeric_only=True)[\"is_fraud\"].sort_values(ascending=False)\n",
    "print(corr)\n"
   ]
  },
  {
   "cell_type": "code",
   "execution_count": null,
   "id": "95642a28",
   "metadata": {},
   "outputs": [
    {
     "name": "stdout",
     "output_type": "stream",
     "text": [
      "                         transactions  fraud_rate\n",
      "channel is_card_present                          \n",
      "mobile  False                 2269578    0.123878\n",
      "pos     True                   651047    1.000000\n",
      "web     False                 4563141    0.123275\n"
     ]
    }
   ],
   "source": [
    "\n",
    "cp_table = (\n",
    "    df_tx\n",
    "      .groupby([\"channel\", \"is_card_present\"])[\"is_fraud\"]\n",
    "      .agg([\"count\", \"mean\"])\n",
    "      .rename(columns={\"count\": \"transactions\", \"mean\": \"fraud_rate\"})\n",
    ")\n",
    "print(cp_table.sort_index())\n"
   ]
  },
  {
   "cell_type": "code",
   "execution_count": 17,
   "id": "38f087f1",
   "metadata": {},
   "outputs": [
    {
     "name": "stdout",
     "output_type": "stream",
     "text": [
      "Precision: 1.0\n",
      "Recall   : 0.39861070876867155\n",
      "Confusion:\n",
      " [[5989047       0]\n",
      " [ 898908  595811]]\n"
     ]
    }
   ],
   "source": [
    "rule_pred = (df_tx[\"is_outside_home_country\"] & df_tx[\"is_card_present\"]).astype(int)\n",
    "from sklearn.metrics import confusion_matrix, precision_score, recall_score\n",
    "\n",
    "y_true = df_tx[\"is_fraud\"].astype(int)\n",
    "print(\"Precision:\", precision_score(y_true, rule_pred))\n",
    "print(\"Recall   :\", recall_score(y_true, rule_pred))\n",
    "print(\"Confusion:\\n\", confusion_matrix(y_true, rule_pred))\n"
   ]
  },
  {
   "cell_type": "code",
   "execution_count": 16,
   "id": "59eeff61",
   "metadata": {},
   "outputs": [
    {
     "data": {
      "image/png": "[encoded data removed]",
      "text/plain": [
       "<Figure size 640x480 with 1 Axes>"
      ]
     },
     "metadata": {},
     "output_type": "display_data"
    }
   ],
   "source": [
    "import matplotlib.pyplot as plt\n",
    "\n",
    "hourly[\"fraud_rate\"].plot(kind=\"bar\")\n",
    "plt.title(\"Fraud rate by hour of day\")\n",
    "plt.xlabel(\"Hour\")\n",
    "plt.ylabel(\"Fraud rate\")\n",
    "plt.tight_layout()\n",
    "plt.show()\n"
   ]
  },
  {
   "cell_type": "code",
   "execution_count": null,
   "id": "fa18bb89",
   "metadata": {},
   "outputs": [],
   "source": [
    "base_feats = [\n",
    "    \"amount_usd\",\n",
    "    \"hour\",\n",
    "    \"is_card_present\",\n",
    "    \"is_outside_home_country\",\n",
    "    \"is_high_risk_vendor\",\n",
    "    \"vendor_category\",\n",
    "    \"channel\",\n",
    "    \"country\",\n",
    "    \"card_type\",\n",
    "]\n",
    "from sklearn.model_selection import train_test_split\n",
    "X = pd.get_dummies(df_tx[base_feats], drop_first=True)\n",
    "y = df_tx[\"is_fraud\"].astype(int)\n",
    "\n",
    "X_train, X_val, y_train, y_val = train_test_split(\n",
    "    X, y, test_size=0.2, stratify=y, random_state=42\n",
    ")\n"
   ]
  },
  {
   "cell_type": "code",
   "execution_count": 25,
   "id": "8862a800",
   "metadata": {},
   "outputs": [
    {
     "name": "stdout",
     "output_type": "stream",
     "text": [
      "Rule-2 precision: 0.9072338525074548\n",
      "Rule-2 recall   : 0.7148574414321354\n"
     ]
    }
   ],
   "source": [
    "df_tx[\"hour_risk\"] = df_tx[\"hour\"].isin([1,2,3,4])\n",
    "df_tx[\"amount_extreme\"] = df_tx[\"amount_decile\"].isin([0,9])\n",
    "\n",
    "rule2_pred = (\n",
    "    df_tx[\"is_outside_home_country\"] & df_tx[\"is_card_present\"] |\n",
    "    (df_tx[\"hour_risk\"] & df_tx[\"is_card_present\"]) |\n",
    "    (df_tx[\"is_outside_home_country\"] & df_tx[\"amount_extreme\"])\n",
    ").astype(int)\n",
    "\n",
    "from sklearn.metrics import precision_score, recall_score\n",
    "print(\"Rule-2 precision:\", precision_score(y_true, rule2_pred))\n",
    "print(\"Rule-2 recall   :\", recall_score(y_true, rule2_pred))\n"
   ]
  },
  {
   "cell_type": "code",
   "execution_count": 27,
   "id": "07a4fe6f",
   "metadata": {},
   "outputs": [
    {
     "name": "stdout",
     "output_type": "stream",
     "text": [
      "[LightGBM] [Warning] Found whitespace in feature_names, replace with underlines\n",
      "[LightGBM] [Info] Number of positive: 1195775, number of negative: 4791237\n",
      "[LightGBM] [Info] Auto-choosing row-wise multi-threading, the overhead of testing was 0.188221 seconds.\n",
      "You can set `force_row_wise=true` to remove the overhead.\n",
      "And if memory is not enough, you can set `force_col_wise=true`.\n",
      "[LightGBM] [Info] Total Bins 1221\n",
      "[LightGBM] [Info] Number of data points in the train set: 5987012, number of used features: 36\n",
      "[LightGBM] [Warning] Found whitespace in feature_names, replace with underlines\n",
      "[LightGBM] [Info] [binary:BoostFromScore]: pavg=0.199728 -> initscore=-1.387994\n",
      "[LightGBM] [Info] Start training from score -1.387994\n",
      "Validation AUC: 0.9957634705293336\n",
      "amount_usd                    2598\n",
      "card_type_Platinum Credit      611\n",
      "country_Nigeria                565\n",
      "vendor_category_Travel         467\n",
      "hour                           350\n",
      "vendor_category_Retail         327\n",
      "country_Russia                 310\n",
      "card_type_Basic Debit          295\n",
      "card_type_Gold Credit          294\n",
      "is_high_risk_vendor            288\n",
      "is_outside_home_country        259\n",
      "vendor_category_Restaurant     252\n",
      "country_Brazil                 251\n",
      "vendor_category_Grocery        213\n",
      "is_card_present                212\n",
      "country_Mexico                 209\n",
      "amount_extreme                 200\n",
      "card_type_Premium Debit        167\n",
      "hour_risk                      153\n",
      "country_Japan                  105\n",
      "dtype: int32\n"
     ]
    }
   ],
   "source": [
    "import lightgbm as lgb\n",
    "from sklearn.metrics import roc_auc_score\n",
    "\n",
    "num_cols = [\"amount_usd\", \"hour\"] + [c for c in df_tx.columns if c.startswith(\"lha_\")]\n",
    "bin_cols = [\"is_card_present\", \"is_outside_home_country\", \"is_high_risk_vendor\",\n",
    "            \"hour_risk\", \"amount_extreme\"]\n",
    "\n",
    "cat_cols = [\"vendor_category\", \"channel\", \"country\", \"card_type\"]\n",
    "\n",
    "X = pd.concat([\n",
    "        df_tx[num_cols],\n",
    "        df_tx[bin_cols].astype(int),\n",
    "        pd.get_dummies(df_tx[cat_cols], drop_first=True)\n",
    "    ], axis=1)\n",
    "\n",
    "y = df_tx[\"is_fraud\"].astype(int)\n",
    "\n",
    "X_train, X_val, y_train, y_val = train_test_split(\n",
    "    X, y, test_size=0.2, stratify=y, random_state=42\n",
    ")\n",
    "\n",
    "clf = lgb.LGBMClassifier(\n",
    "    n_estimators=300,\n",
    "    learning_rate=0.05,\n",
    "    max_depth=-1,\n",
    "    subsample=0.8,\n",
    "    colsample_bytree=0.8,\n",
    "    objective=\"binary\"\n",
    ")\n",
    "clf.fit(X_train, y_train, eval_set=[(X_val, y_val)], eval_metric=\"auc\")\n",
    "\n",
    "print(\"Validation AUC:\", roc_auc_score(y_val, clf.predict_proba(X_val)[:,1]))\n",
    "feat_imp = pd.Series(clf.feature_importances_, index=X.columns).sort_values(ascending=False)[:20]\n",
    "print(feat_imp)\n"
   ]
  },
  {
   "cell_type": "code",
   "execution_count": null,
   "id": "08439607",
   "metadata": {},
   "outputs": [],
   "source": []
  }
 ],
 "metadata": {
  "kernelspec": {
   "display_name": "Python 3",
   "language": "python",
   "name": "python3"
  },
  "language_info": {
   "codemirror_mode": {
    "name": "ipython",
    "version": 3
   },
   "file_extension": ".py",
   "mimetype": "text/x-python",
   "name": "python",
   "nbconvert_exporter": "python",
   "pygments_lexer": "ipython3",
   "version": "3.11.0"
  }
 },
 "nbformat": 4,
 "nbformat_minor": 5
}
